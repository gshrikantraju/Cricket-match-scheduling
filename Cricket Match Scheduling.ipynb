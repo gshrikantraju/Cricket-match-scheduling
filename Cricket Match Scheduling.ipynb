{
 "cells": [
  {
   "cell_type": "code",
   "execution_count": 1,
   "id": "cbe63905",
   "metadata": {},
   "outputs": [
    {
     "name": "stdout",
     "output_type": "stream",
     "text": [
      "Gujarat Titans Vs. Lucknow Super Giants\n",
      "Gujarat Titans Vs. Rajasthan Royals\n",
      "Gujarat Titans Vs. Delhi Capitals\n",
      "Gujarat Titans Vs. Royal Challengers Banglore\n",
      "Gujarat Titans Vs. Kolkata Knight Riders\n",
      "Gujarat Titans Vs. Punjab Kings\n",
      "Gujarat Titans Vs. Sunrisers Hyderabad\n",
      "Gujarat Titans Vs. Chennai Super Kings\n",
      "Gujarat Titans Vs. Mumbai Indians\n",
      "Lucknow Super Giants Vs. Rajasthan Royals\n",
      "Lucknow Super Giants Vs. Delhi Capitals\n",
      "Lucknow Super Giants Vs. Royal Challengers Banglore\n",
      "Lucknow Super Giants Vs. Kolkata Knight Riders\n",
      "Lucknow Super Giants Vs. Punjab Kings\n",
      "Lucknow Super Giants Vs. Sunrisers Hyderabad\n",
      "Lucknow Super Giants Vs. Chennai Super Kings\n",
      "Lucknow Super Giants Vs. Mumbai Indians\n",
      "Rajasthan Royals Vs. Delhi Capitals\n",
      "Rajasthan Royals Vs. Royal Challengers Banglore\n",
      "Rajasthan Royals Vs. Kolkata Knight Riders\n",
      "Rajasthan Royals Vs. Punjab Kings\n",
      "Rajasthan Royals Vs. Sunrisers Hyderabad\n",
      "Rajasthan Royals Vs. Chennai Super Kings\n",
      "Rajasthan Royals Vs. Mumbai Indians\n",
      "Delhi Capitals Vs. Royal Challengers Banglore\n",
      "Delhi Capitals Vs. Kolkata Knight Riders\n",
      "Delhi Capitals Vs. Punjab Kings\n",
      "Delhi Capitals Vs. Sunrisers Hyderabad\n",
      "Delhi Capitals Vs. Chennai Super Kings\n",
      "Delhi Capitals Vs. Mumbai Indians\n",
      "Royal Challengers Banglore Vs. Kolkata Knight Riders\n",
      "Royal Challengers Banglore Vs. Punjab Kings\n",
      "Royal Challengers Banglore Vs. Sunrisers Hyderabad\n",
      "Royal Challengers Banglore Vs. Chennai Super Kings\n",
      "Royal Challengers Banglore Vs. Mumbai Indians\n",
      "Kolkata Knight Riders Vs. Punjab Kings\n",
      "Kolkata Knight Riders Vs. Sunrisers Hyderabad\n",
      "Kolkata Knight Riders Vs. Chennai Super Kings\n",
      "Kolkata Knight Riders Vs. Mumbai Indians\n",
      "Punjab Kings Vs. Sunrisers Hyderabad\n",
      "Punjab Kings Vs. Chennai Super Kings\n",
      "Punjab Kings Vs. Mumbai Indians\n",
      "Sunrisers Hyderabad Vs. Chennai Super Kings\n",
      "Sunrisers Hyderabad Vs. Mumbai Indians\n",
      "Chennai Super Kings Vs. Mumbai Indians\n"
     ]
    }
   ],
   "source": [
    "teams = ['Gujarat Titans', 'Lucknow Super Giants', 'Rajasthan Royals', 'Delhi Capitals', 'Royal Challengers Banglore', 'Kolkata Knight Riders', 'Punjab Kings', 'Sunrisers Hyderabad', 'Chennai Super Kings', 'Mumbai Indians']\n",
    "for i in range(0,len(teams)):\n",
    "    m = teams[i]\n",
    "    remaining_teams = teams[i+1:]\n",
    "    for j in remaining_teams:\n",
    "        n = j\n",
    "        print(m,'Vs.',n)"
   ]
  },
  {
   "cell_type": "code",
   "execution_count": null,
   "id": "01935fea",
   "metadata": {},
   "outputs": [],
   "source": []
  }
 ],
 "metadata": {
  "kernelspec": {
   "display_name": "Python 3",
   "language": "python",
   "name": "python3"
  },
  "language_info": {
   "codemirror_mode": {
    "name": "ipython",
    "version": 3
   },
   "file_extension": ".py",
   "mimetype": "text/x-python",
   "name": "python",
   "nbconvert_exporter": "python",
   "pygments_lexer": "ipython3",
   "version": "3.8.8"
  }
 },
 "nbformat": 4,
 "nbformat_minor": 5
}
