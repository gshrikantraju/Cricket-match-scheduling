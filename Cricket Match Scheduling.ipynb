{
 "cells": [
  {
   "cell_type": "code",
   "execution_count": 54,
   "id": "dc18dc84",
   "metadata": {},
   "outputs": [
    {
     "name": "stdout",
     "output_type": "stream",
     "text": [
      "India Vs. Bangladesh\n",
      "India Vs. Australia\n",
      "India Vs. New Zealand\n",
      "Bangladesh Vs. Australia\n",
      "Bangladesh Vs. New Zealand\n",
      "Australia Vs. New Zealand\n"
     ]
    }
   ],
   "source": [
    "teams = ['India', 'Bangladesh', 'Australia', 'New Zealand']\n",
    "for i in range(0,len(teams)):\n",
    "    m = teams[i]\n",
    "    remaining_teams = teams[i+1:]\n",
    "    for j in remaining_teams:\n",
    "        n = j\n",
    "        print(m,'Vs.',n)"
   ]
  }
 ],
 "metadata": {
  "kernelspec": {
   "display_name": "Python 3",
   "language": "python",
   "name": "python3"
  },
  "language_info": {
   "codemirror_mode": {
    "name": "ipython",
    "version": 3
   },
   "file_extension": ".py",
   "mimetype": "text/x-python",
   "name": "python",
   "nbconvert_exporter": "python",
   "pygments_lexer": "ipython3",
   "version": "3.8.8"
  }
 },
 "nbformat": 4,
 "nbformat_minor": 5
}
